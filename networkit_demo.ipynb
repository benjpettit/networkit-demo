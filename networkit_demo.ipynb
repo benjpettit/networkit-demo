{
 "cells": [
  {
   "cell_type": "code",
   "execution_count": null,
   "metadata": {
    "collapsed": false
   },
   "outputs": [],
   "source": [
    "import pandas as pd\n",
    "from matplotlib import pyplot as plt\n",
    "import networkit\n",
    "import networkx\n",
    "\n",
    "edgeFile = \"wikispeedia_paths-and-graph/links.tsv\"\n",
    "categoryFile = \"wikispeedia_paths-and-graph/categories.tsv\""
   ]
  },
  {
   "cell_type": "markdown",
   "metadata": {},
   "source": [
    "## Load category data\n",
    "Read data from file into Pandas dataframe. This tells us how many nodes there are. The categories are not used for community detection, but we'll use them later to inspect the communities."
   ]
  },
  {
   "cell_type": "code",
   "execution_count": null,
   "metadata": {
    "collapsed": false
   },
   "outputs": [],
   "source": [
    "nodeData = pd.read_csv(\n",
    "    categoryFile,\n",
    "    names = [\"article\", \"category\"],\n",
    "    skiprows = 13,\n",
    "    delimiter = '\\t'\n",
    ")\n",
    "nodeIds = {row[1].article:row[0] for row in nodeData.iterrows()}\n",
    "nodeData[\"level_1_category\"] = [_.split(\".\")[1] for _ in nodeData.category.values]\n",
    "nodeData[\"level_2_category\"] = [\n",
    "    _.split(\".\")[2]\n",
    "    if len(_.split(\".\")) > 2 else  _.split(\".\")[1]\n",
    "    for _ in nodeData.category.values\n",
    "]\n",
    "print(len(nodeData), \"nodes\")\n",
    "nodeData.head()"
   ]
  },
  {
   "cell_type": "markdown",
   "metadata": {},
   "source": [
    "## Load link data\n",
    "For this demo, let's treat the links as undirected. An alternative would be to only include bidirectional links, or find a community detection method that uses edge direction."
   ]
  },
  {
   "cell_type": "code",
   "execution_count": null,
   "metadata": {
    "collapsed": false
   },
   "outputs": [],
   "source": [
    "graph = networkit.graph.Graph(len(nodeData))\n",
    "nxGraph = networkx.Graph()\n",
    "with open(edgeFile) as f:\n",
    "    for line in f:\n",
    "        if not line.startswith('#') and line.strip():\n",
    "            splitLine = line.strip().split(\"\\t\")\n",
    "            sourceId = nodeIds.get(splitLine[0], None)\n",
    "            targetId = nodeIds.get(splitLine[1], None)\n",
    "            if sourceId != None and targetId != None:\n",
    "                graph.addEdge(sourceId, targetId)\n",
    "                nxGraph.add_edge(sourceId, targetId)\n",
    "print(len(graph.edges()), \"edges\")"
   ]
  },
  {
   "cell_type": "markdown",
   "metadata": {},
   "source": [
    "## Connected components\n",
    "List the sizes of the 10 largest weakly connected components."
   ]
  },
  {
   "cell_type": "code",
   "execution_count": null,
   "metadata": {
    "collapsed": false
   },
   "outputs": [],
   "source": [
    "componentSizes = list(networkit.components.ConnectedComponents(graph)\n",
    "                  .run()\n",
    "                  .getComponentSizes()\n",
    "                  .values())\n",
    "componentSizes.sort(key = lambda x: -x)\n",
    "componentSizes[:10]"
   ]
  },
  {
   "cell_type": "markdown",
   "metadata": {},
   "source": [
    "## Community detection\n",
    "Run community detection using the Parallel Louvain Method (PLM). This outputs a `Partition` object."
   ]
  },
  {
   "cell_type": "code",
   "execution_count": null,
   "metadata": {
    "collapsed": true
   },
   "outputs": [],
   "source": [
    "plmPartition = networkit.community.PLM(graph).run().getPartition()"
   ]
  },
  {
   "cell_type": "code",
   "execution_count": null,
   "metadata": {
    "collapsed": false
   },
   "outputs": [],
   "source": [
    "plmPartition.getSubsetIds()"
   ]
  },
  {
   "cell_type": "code",
   "execution_count": null,
   "metadata": {
    "collapsed": false
   },
   "outputs": [],
   "source": [
    "plmPartition.getMembers(3)"
   ]
  },
  {
   "cell_type": "code",
   "execution_count": null,
   "metadata": {
    "collapsed": false
   },
   "outputs": [],
   "source": [
    "subsetSizes = {k:v for k,v in plmPartition.subsetSizeMap().items() if v > 1}\n",
    "print(len(subsetSizes), \"communities with more than one member\")\n",
    "subsetSizes"
   ]
  },
  {
   "cell_type": "markdown",
   "metadata": {},
   "source": [
    "## Inspect the communities\n",
    "To help us make sense of the communities, let's plot the top article categories for each community."
   ]
  },
  {
   "cell_type": "code",
   "execution_count": null,
   "metadata": {
    "collapsed": false
   },
   "outputs": [],
   "source": [
    "nodeData[\"community\"] = plmPartition.getVector()\n",
    "nodeData.head()"
   ]
  },
  {
   "cell_type": "code",
   "execution_count": null,
   "metadata": {
    "collapsed": false
   },
   "outputs": [],
   "source": [
    "%matplotlib inline\n",
    "def plot_categories(\n",
    "        community = None,\n",
    "        column = \"level_1_category\",\n",
    "        top_n = 10,\n",
    "        axes = None):\n",
    "    if axes == None:\n",
    "        axes = plt.axes()\n",
    "    if community is not None:\n",
    "        plotData = nodeData[nodeData.community == community]\n",
    "    else:\n",
    "        plotData = nodeData\n",
    "    (plotData\n",
    "     .groupby(column)\n",
    "     .count()\n",
    "     .sort(\"article\", ascending=False)\n",
    "     .article\n",
    "     .head(top_n)\n",
    "     .plot(kind=\"bar\", ax=axes))\n",
    "    plt.ylabel(\"number of articles\")"
   ]
  },
  {
   "cell_type": "code",
   "execution_count": null,
   "metadata": {
    "collapsed": false
   },
   "outputs": [],
   "source": [
    "print(len(nodeData.level_1_category.unique()), \"parent categories\")\n",
    "nodeData.level_1_category.unique()"
   ]
  },
  {
   "cell_type": "code",
   "execution_count": null,
   "metadata": {
    "collapsed": false
   },
   "outputs": [],
   "source": [
    "print(len(nodeData.level_2_category.unique()), \"child categories\")"
   ]
  },
  {
   "cell_type": "code",
   "execution_count": null,
   "metadata": {
    "collapsed": false
   },
   "outputs": [],
   "source": [
    "fig, (ax1, ax2) = plt.subplots(1,2, figsize=(15,4))\n",
    "plot_categories(top_n=15, column=\"level_1_category\", axes=ax1)\n",
    "plot_categories(top_n=15, column=\"level_2_category\", axes=ax2)"
   ]
  },
  {
   "cell_type": "code",
   "execution_count": null,
   "metadata": {
    "collapsed": false,
    "scrolled": false
   },
   "outputs": [],
   "source": [
    "for community in subsetSizes:\n",
    "    print(\"\\nCommunity %d: %d articles\" % (community, subsetSizes[community]))\n",
    "    fig, (ax1, ax2) = plt.subplots(1,2, figsize=(15,4))\n",
    "    plot_categories(community, top_n=15, column=\"level_1_category\", axes=ax1)\n",
    "    plot_categories(community, top_n=15, column=\"level_2_category\", axes=ax2)\n",
    "    plt.show()"
   ]
  },
  {
   "cell_type": "markdown",
   "metadata": {},
   "source": [
    "## Export graph to file\n",
    "Save the graph data, including the communities we found, in a format that can be read with Gephi for visualisation."
   ]
  },
  {
   "cell_type": "code",
   "execution_count": null,
   "metadata": {
    "collapsed": false
   },
   "outputs": [],
   "source": [
    "# Add node data to the NetworkX version of the graph\n",
    "for index,data in nodeData.iterrows():\n",
    "    nxGraph.node[index] = data\n",
    "    \n",
    "# Find the largest connected component\n",
    "largestCC = nxGraph.subgraph(\n",
    "    networkit.components.ConnectedComponents(graph)\n",
    "    .run()\n",
    "    .getPartition()\n",
    "    .getMembers(1)\n",
    ")\n",
    "\n",
    "# Write the graph data to a file\n",
    "networkx.write_graphml(largestCC, \"wiki.graphml\")"
   ]
  }
 ],
 "metadata": {
  "kernelspec": {
   "display_name": "Python 3",
   "language": "python",
   "name": "python3"
  },
  "language_info": {
   "codemirror_mode": {
    "name": "ipython",
    "version": 3
   },
   "file_extension": ".py",
   "mimetype": "text/x-python",
   "name": "python",
   "nbconvert_exporter": "python",
   "pygments_lexer": "ipython3",
   "version": "3.4.3"
  }
 },
 "nbformat": 4,
 "nbformat_minor": 0
}
