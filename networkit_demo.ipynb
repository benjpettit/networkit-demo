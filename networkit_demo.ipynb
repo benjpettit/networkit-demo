{
 "cells": [
  {
   "cell_type": "code",
   "execution_count": null,
   "metadata": {
    "collapsed": false
   },
   "outputs": [],
   "source": [
    "import pandas as pd\n",
    "from matplotlib import pyplot as plt\n",
    "import networkit\n",
    "import networkx\n",
    "\n",
    "edgeFile = \"wikispeedia_paths-and-graph/links.tsv\"\n",
    "categoryFile = \"wikispeedia_paths-and-graph/categories.tsv\""
   ]
  },
  {
   "cell_type": "markdown",
   "metadata": {},
   "source": [
    "## Load node data\n",
    "Read data from file into Pandas dataframe. This tells us how many nodes there are. The categories are not used for community detection, but we'll use them later to inspect the communities."
   ]
  },
  {
   "cell_type": "code",
   "execution_count": null,
   "metadata": {
    "collapsed": false
   },
   "outputs": [],
   "source": [
    "nodeData = pd.read_csv(\n",
    "    categoryFile,\n",
    "    names = [\"article\", \"category\"],\n",
    "    skiprows = 13,\n",
    "    delimiter = '\\t'\n",
    ")\n",
    "nodeIds = {row[1].article:row[0] for row in nodeData.iterrows()}\n",
    "print(len(nodeData), \"nodes\")"
   ]
  },
  {
   "cell_type": "markdown",
   "metadata": {},
   "source": [
    "## Load link data\n",
    "For this demo, let's treat the links as undirected. An alternative would be to only include bidirectional links, or find a community detection method that uses edge direction."
   ]
  },
  {
   "cell_type": "code",
   "execution_count": null,
   "metadata": {
    "collapsed": false
   },
   "outputs": [],
   "source": [
    "graph = networkit.graph.Graph(len(nodeData))\n",
    "nxGraph = networkx.Graph()\n",
    "with open(edgeFile) as f:\n",
    "    for line in f:\n",
    "        if not line.startswith('#') and line.strip():\n",
    "            splitLine = line.strip().split(\"\\t\")\n",
    "            sourceId = nodeIds.get(splitLine[0], None)\n",
    "            targetId = nodeIds.get(splitLine[1], None)\n",
    "            if sourceId != None and targetId != None:\n",
    "                graph.addEdge(sourceId, targetId)\n",
    "                nxGraph.add_edge(sourceId, targetId)\n",
    "print(len(graph.edges()), \"edges\")"
   ]
  },
  {
   "cell_type": "markdown",
   "metadata": {},
   "source": [
    "## Connected components\n",
    "List the sizes of the 10 largest weakly connected components."
   ]
  },
  {
   "cell_type": "code",
   "execution_count": null,
   "metadata": {
    "collapsed": false
   },
   "outputs": [],
   "source": [
    "componentSizes = list(networkit.components.ConnectedComponents(graph)\n",
    "                  .run()\n",
    "                  .getComponentSizes()\n",
    "                  .values())\n",
    "componentSizes.sort(key = lambda x: -x)\n",
    "componentSizes[:10]"
   ]
  },
  {
   "cell_type": "markdown",
   "metadata": {},
   "source": [
    "## Community detection\n",
    "Run community detection using the Parallel Louvain Method (PLM). This outputs a partition object."
   ]
  },
  {
   "cell_type": "code",
   "execution_count": null,
   "metadata": {
    "collapsed": true
   },
   "outputs": [],
   "source": [
    "plmPartition = networkit.community.PLM(graph).run().getPartition()"
   ]
  },
  {
   "cell_type": "code",
   "execution_count": null,
   "metadata": {
    "collapsed": false
   },
   "outputs": [],
   "source": [
    "# Make a dictionary containing the ids and sizes of the non-singleton communities.\n",
    "subsetSizes = {k:v for k,v in plmPartition.subsetSizeMap().items() if v > 1}\n",
    "print(\"%d communities, of which %d have more than one member\" % (\n",
    "        len(plmPartition.getSubsetIds()),\n",
    "        len(subsetSizes)\n",
    "    ))\n",
    "subsetSizes"
   ]
  },
  {
   "cell_type": "markdown",
   "metadata": {},
   "source": [
    "## Inspect the communities\n",
    "To help us make sense of the communities, let's plot the top article categories for each community."
   ]
  },
  {
   "cell_type": "code",
   "execution_count": null,
   "metadata": {
    "collapsed": false
   },
   "outputs": [],
   "source": [
    "nodeData[\"community\"] = plmPartition.getVector()\n",
    "nodeData[\"parent_category\"] = [_.split(\".\")[1] for _ in nodeData.category.values]\n",
    "nodeData[\"child_category\"] = [\n",
    "    _.split(\".\")[2]\n",
    "    if len(_.split(\".\")) > 2 else  _.split(\".\")[1]\n",
    "    for _ in nodeData.category.values\n",
    "]\n",
    "nodeData[[\"article\", \"parent_category\", \"child_category\", \"community\"]].tail()"
   ]
  },
  {
   "cell_type": "code",
   "execution_count": null,
   "metadata": {
    "collapsed": false
   },
   "outputs": [],
   "source": [
    "print(len(nodeData.parent_category.unique()), \"parent categories\")\n",
    "nodeData.parent_category.unique()"
   ]
  },
  {
   "cell_type": "code",
   "execution_count": null,
   "metadata": {
    "collapsed": false
   },
   "outputs": [],
   "source": [
    "print(len(nodeData.child_category.unique()), \"child categories\")"
   ]
  },
  {
   "cell_type": "code",
   "execution_count": null,
   "metadata": {
    "collapsed": false
   },
   "outputs": [],
   "source": [
    "%matplotlib inline\n",
    "def get_top_communities(\n",
    "        community = None,\n",
    "        column = \"parent_category\",\n",
    "        top_n = 10\n",
    "    ):\n",
    "    if community is not None:\n",
    "        plotData = nodeData[nodeData.community == community]\n",
    "    else:\n",
    "        plotData = nodeData\n",
    "    return (plotData\n",
    "     .groupby(column)\n",
    "     .count()\n",
    "     .sort(\"article\", ascending=False)\n",
    "     .article\n",
    "     .head(top_n))\n",
    "    \n",
    "def plot_categories(\n",
    "        community = None,\n",
    "        column = \"parent_category\",\n",
    "        top_n = 10,\n",
    "        axes = None):\n",
    "    '''\n",
    "    Plot the frequencies of the top n categories in the specified column.\n",
    "    Optionally subset the data by community'''\n",
    "    \n",
    "    if axes == None:\n",
    "        axes = plt.axes()\n",
    "    get_top_communities(community, column, top_n).plot(kind=\"bar\", ax=axes)\n",
    "    plt.ylabel(\"number of articles\")"
   ]
  },
  {
   "cell_type": "code",
   "execution_count": null,
   "metadata": {
    "collapsed": false
   },
   "outputs": [],
   "source": [
    "fig, (ax1, ax2) = plt.subplots(1,2, figsize=(15,4))\n",
    "plot_categories(top_n=15, column=\"parent_category\", axes=ax1)\n",
    "plot_categories(top_n=15, column=\"child_category\", axes=ax2)"
   ]
  },
  {
   "cell_type": "code",
   "execution_count": null,
   "metadata": {
    "collapsed": false,
    "scrolled": false
   },
   "outputs": [],
   "source": [
    "for community,size in sorted(list(subsetSizes.items()), key = lambda x: -x[1]):\n",
    "    print(\"\\nCommunity %d: %d articles\" % (community, size))\n",
    "    fig, (ax1, ax2) = plt.subplots(1,2, figsize=(15,4))\n",
    "    plot_categories(community, top_n=15, column=\"parent_category\", axes=ax1)\n",
    "    plot_categories(community, top_n=15, column=\"child_category\", axes=ax2)\n",
    "    plt.show()"
   ]
  },
  {
   "cell_type": "markdown",
   "metadata": {},
   "source": [
    "Compare the top categories in two communities:"
   ]
  },
  {
   "cell_type": "code",
   "execution_count": null,
   "metadata": {
    "collapsed": false
   },
   "outputs": [],
   "source": [
    "for community in [8, 3]:\n",
    "    print(\"\\nCommunity %d\" % community)\n",
    "    for column in [\"parent_category\", \"child_category\"]:\n",
    "        print(\"Top 5 %s:\" % column)\n",
    "        for item in get_top_communities(community, column, top_n=5).index:\n",
    "            print(\"\\t\" + item)"
   ]
  },
  {
   "cell_type": "code",
   "execution_count": null,
   "metadata": {
    "collapsed": false
   },
   "outputs": [],
   "source": [
    "for community in [7, 9]:\n",
    "    print(\"\\nCommunity %d\" % community)\n",
    "    for column in [\"parent_category\", \"child_category\"]:\n",
    "        print(\"Top 5 %s:\" % column)\n",
    "        for item in get_top_communities(community, column, top_n=5).index:\n",
    "            print(\"\\t\" + item)"
   ]
  },
  {
   "cell_type": "markdown",
   "metadata": {},
   "source": [
    "## Export graph to file\n",
    "Save the graph data, including the communities we found, in a format that can be read with Gephi for visualisation."
   ]
  },
  {
   "cell_type": "code",
   "execution_count": null,
   "metadata": {
    "collapsed": false
   },
   "outputs": [],
   "source": [
    "# Add node data to the NetworkX version of the graph\n",
    "for index,data in nodeData.iterrows():\n",
    "    nxGraph.node[index] = data\n",
    "    \n",
    "# Find the largest connected component\n",
    "largestCC = nxGraph.subgraph(\n",
    "    networkit.components.ConnectedComponents(graph)\n",
    "    .run()\n",
    "    .getPartition()\n",
    "    .getMembers(1)\n",
    ")\n",
    "\n",
    "# Write the graph data to a file\n",
    "networkx.write_graphml(largestCC, \"wiki.graphml\")"
   ]
  }
 ],
 "metadata": {
  "kernelspec": {
   "display_name": "Python 3",
   "language": "python",
   "name": "python3"
  },
  "language_info": {
   "codemirror_mode": {
    "name": "ipython",
    "version": 3
   },
   "file_extension": ".py",
   "mimetype": "text/x-python",
   "name": "python",
   "nbconvert_exporter": "python",
   "pygments_lexer": "ipython3",
   "version": "3.4.3"
  }
 },
 "nbformat": 4,
 "nbformat_minor": 0
}
